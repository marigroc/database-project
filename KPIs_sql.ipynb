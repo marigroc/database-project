{
 "cells": [
  {
   "cell_type": "code",
   "execution_count": null,
   "metadata": {},
   "outputs": [],
   "source": [
    "PARAMETERS [Enter Month] Long, [Enter Year] Long;\n",
    "SELECT \n",
    "    TotalScanners.dept, \n",
    "    Nz(COUNT(ScannerCounts.serial_number), 0) AS Tested, \n",
    "    TotalScanners.TotalCurrentScanners AS Total, \n",
    "    IIf(TotalScanners.TotalCurrentScanners = 0, 0, ROUND((Nz(COUNT(ScannerCounts.serial_number), 0) * 100.0 / TotalScanners.TotalCurrentScanners)) ) AS PercentageTested\n",
    "FROM (\n",
    "    SELECT \n",
    "        scanners.serial_number, \n",
    "        scanners.dept \n",
    "        FROM (\n",
    "            scanners \n",
    "            INNER JOIN probes ON scanners.serial_number = probes.scanner_id) \n",
    "            INNER JOIN results ON probes.serial_number = results.serial_number WHERE scanners.is_current = True \n",
    "                AND Year(results.date) = [Enter Year] \n",
    "                AND Month(results.date) = [Enter Month] \n",
    "            GROUP BY \n",
    "                scanners.serial_number, \n",
    "                scanners.dept)  AS ScannerCounts \n",
    "    RIGHT JOIN (SELECT \n",
    "                dept, \n",
    "                COUNT(*) AS TotalCurrentScanners \n",
    "                FROM \n",
    "                    scanners \n",
    "                WHERE is_current = True \n",
    "                GROUP BY dept)  AS TotalScanners ON ScannerCounts.dept = TotalScanners.dept\n",
    "GROUP BY \n",
    "    TotalScanners.dept, \n",
    "    STotalScanners.TotalCurrentScanners;\n"
   ]
  }
 ],
 "metadata": {
  "language_info": {
   "name": "python"
  }
 },
 "nbformat": 4,
 "nbformat_minor": 2
}

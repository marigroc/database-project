{
 "cells": [
  {
   "cell_type": "code",
   "execution_count": null,
   "metadata": {},
   "outputs": [],
   "source": [
    "SELECT \n",
    "    probes.type, \n",
    "    probes.model, \n",
    "    results.date, \n",
    "    scanners.serial_number AS scanner_serial_number, \n",
    "    results.serial_number AS probe_serial_number, \n",
    "    results.qa_cl_rev, \n",
    "    results.qa_cl_gn, \n",
    "    results.qa_cl_c, \n",
    "    results.qa_ph_rev, \n",
    "    results.qa_ph_gn, \n",
    "    results.qa_ph_c\n",
    "FROM (\n",
    "    probes INNER JOIN results ON probes.serial_number = results.serial_number) \n",
    "    INNER JOIN scanners ON probes.scanner_id = scanners.serial_number\n",
    "WHERE \n",
    "    probes.type = [Enter probe type (linear, curvilinear, pencil, 3D, internal, matrix, phased, toe): ]\n",
    "GROUP BY \n",
    "    probes.type, \n",
    "    probes.model, \n",
    "    results.date, \n",
    "    scanners.serial_number, \n",
    "    results.serial_number, \n",
    "    results.date, \n",
    "    results.qa_cl_rev, \n",
    "    results.qa_cl_gn, \n",
    "    results.qa_cl_c, \n",
    "    results.qa_ph_rev, \n",
    "    results.qa_ph_gn, \n",
    "    results.qa_ph_c\n",
    "ORDER BY \n",
    "    probes.model;"
   ]
  }
 ],
 "metadata": {
  "language_info": {
   "name": "python"
  }
 },
 "nbformat": 4,
 "nbformat_minor": 2
}
